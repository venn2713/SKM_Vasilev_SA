{
  "nbformat": 4,
  "nbformat_minor": 0,
  "metadata": {
    "colab": {
      "provenance": [],
      "authorship_tag": "ABX9TyPaReLRhk568mrWnKh7Zptc",
      "include_colab_link": true
    },
    "kernelspec": {
      "name": "python3",
      "display_name": "Python 3"
    },
    "language_info": {
      "name": "python"
    }
  },
  "cells": [
    {
      "cell_type": "markdown",
      "metadata": {
        "id": "view-in-github",
        "colab_type": "text"
      },
      "source": [
        "<a href=\"https://colab.research.google.com/github/venn2713/SKM_Vasilev_SA/blob/main/Vasilev_SA.ipynb\" target=\"_parent\"><img src=\"https://colab.research.google.com/assets/colab-badge.svg\" alt=\"Open In Colab\"/></a>"
      ]
    },
    {
      "cell_type": "markdown",
      "source": [
        "# Плохая обусловленность метода Кардано"
      ],
      "metadata": {
        "id": "8yk-mWPIvQHW"
      }
    },
    {
      "cell_type": "markdown",
      "source": [
        "Метод Кардано, также известный как метод кубических уравнений, является одним из методов решения кубических уравнений вида $$ax^3 + bx^2 + cx + d = 0,$$ где $a$, $b$, $c$ и $d$ - коэффициенты уравнения.\n",
        "\n",
        "Основная идея метода заключается в том, чтобы привести уравнение к виду \n",
        "$$y^3 + py = q, \n",
        "\\qquad \n",
        "y = x - \\frac{b}{3a}.\n",
        "$$ Для этого используются замены переменных и другие преобразования."
      ],
      "metadata": {
        "id": "NoE_q6JMv419"
      }
    },
    {
      "cell_type": "markdown",
      "source": [
        "Вот реализация метода Кардано для нахождения корней кубического уравнения $y^3 + ay^2 + by + c = 0$ с вещественными или комплексными коэффициентами:"
      ],
      "metadata": {
        "id": "_eS67dFWDL62"
      }
    },
    {
      "cell_type": "code",
      "source": [
        "def f(y, λ):\n",
        "    return y**3 + 3*y**2 + λ**2*y + 3*λ**2"
      ],
      "metadata": {
        "id": "Hu7aiB_9KjCT"
      },
      "execution_count": null,
      "outputs": []
    },
    {
      "cell_type": "markdown",
      "source": [
        "Эта функция f принимает два аргумента: y и λ. Она используется для вычисления значения функции, заданной уравнением $y^3 + 3y^2 + \\lambda^2 y + 3\\lambda^2 = 0.$"
      ],
      "metadata": {
        "id": "r55jwi5k0Rts"
      }
    },
    {
      "cell_type": "code",
      "execution_count": 50,
      "metadata": {
        "id": "oYtq0WTk-Yb8"
      },
      "outputs": [],
      "source": [
        "import numpy as np\n",
        "\n",
        "def cardano(a, b, c):\n",
        "    Q = (3*b - a**2)/9\n",
        "    R = (9*a*b - 27*c - 2*a**3)/54\n",
        "    Delta = Q**3 + R**2\n",
        "    S = np.cbrt(R + np.sqrt(Delta))\n",
        "    T = np.cbrt(R - np.sqrt(Delta))\n",
        "    if Delta > 0:\n",
        "        y1 = S + T - a/3\n",
        "        y2 = -(S + T)/2 - a/3 + 1j*(S - T)*np.sqrt(3)/2\n",
        "        y3 = -(S + T)/2 - a/3 - 1j*(S - T)*np.sqrt(3)/2\n",
        "    else:\n",
        "        theta = np.arccos(R/np.sqrt(-Q**3))\n",
        "        y1 = 2*np.sqrt(-Q)*np.cos(theta/3) - a/3\n",
        "        y2 = 2*np.sqrt(-Q)*np.cos((theta + 2*np.pi)/3) - a/3\n",
        "        y3 = 2*np.sqrt(-Q)*np.cos((theta + 4*np.pi)/3) - a/3\n",
        "\n",
        "    return y1, y2, y3"
      ]
    },
    {
      "cell_type": "markdown",
      "source": [
        "Функция `cardano(a, b, c)` возвращает три корня `y1`, `y2` и `y3` в виде вещественных чисел или комплексных чисел в зависимости от того, являются ли коэффициенты $a$, $b$ и $c$ вещественными или комплексными.\n",
        "\n",
        "В методе Кардано используется переменная `Q`, `R` и `Delta`, чтобы вычислить корни кубического уравнения. Если `Delta > 0`, то используются формулы для вычисления корней для случая вещественных коэффициентов. Если `Delta < 0`, то используются формулы для вычисления корней для случая комплексных коэффициентов."
      ],
      "metadata": {
        "id": "L-SVGKL5DWVQ"
      }
    },
    {
      "cell_type": "code",
      "source": [
        "import matplotlib.pyplot as plt\n",
        "\n",
        "y_max = float('-inf')\n",
        "y_min = float('inf')\n",
        "\n",
        "# Количество точек на графике\n",
        "points_count = 1000;\n",
        "\n",
        "# Диапазон значений x\n",
        "x_range = np.linspace(0, 1. / np.finfo(float).eps, points_count)\n",
        "\n",
        "for x in x_range: \n",
        "    # Вычисляем корни уравнения\n",
        "    y0, y1, y2 = cardano(3, x**2, 3 * x**2)\n",
        "    \n",
        "    # Если корень вещественный, вычисляем значение y и добавляем его в график\n",
        "    if y0.imag == 0:\n",
        "        y_val = f(y0.real, x)\n",
        "        if y_val != 0:\n",
        "            y_max = max(y_max, y_val)\n",
        "            y_min = min(y_min, y_val)\n",
        "            plt.scatter(x, y_val, c='blue', s=5)\n",
        "            \n",
        "    if y1.imag == 0:\n",
        "        y_val = f(y1.real, x)\n",
        "        if y_val != 0:\n",
        "            y_max = max(y_max, y_val)\n",
        "            y_min = min(y_min, y_val)\n",
        "            plt.scatter(x, y_val, c='blue', s=5)\n",
        "            \n",
        "    if y2.imag == 0:\n",
        "        y_val = f(y2.real, x)\n",
        "        if y_val != 0:\n",
        "            y_max = max(y_max, y_val)\n",
        "            y_min = min(y_min, y_val)\n",
        "            plt.scatter(x, y_val, c='blue', s=5)\n",
        "\n",
        "# Установка границ по y и отображение графика\n",
        "plt.ylim(bottom=y_min, top=y_max)\n",
        "plt.show()\n",
        "\n",
        "# Вывод минимального и максимального значения y\n",
        "print('Минимальное значение y = {0}'.format(y_min))\n",
        "print('Максимальное значение y = {0}'.format(y_max))\n"
      ],
      "metadata": {
        "colab": {
          "base_uri": "https://localhost:8080/",
          "height": 499
        },
        "id": "Oa3ntzoHHyMi",
        "outputId": "7c014807-42af-46df-8bef-f12ae9573d2a"
      },
      "execution_count": 51,
      "outputs": [
        {
          "output_type": "display_data",
          "data": {
            "text/plain": [
              "<Figure size 640x480 with 1 Axes>"
            ],
            "image/png": "[encoded data removed]"
          },
          "metadata": {}
        },
        {
          "output_type": "stream",
          "name": "stdout",
          "text": [
            "Минимальное значение y = -2.0120313073689548e+31\n",
            "Максимальное значение y = 3.0423614405477506e+31\n"
          ]
        }
      ]
    },
    {
      "cell_type": "markdown",
      "source": [
        "Этот блок кода визуализирует функцию `f(y, λ)` в диапазоне значений $x$ от $0$ до очень большого числа (ограниченного только точностью хранения чисел с плавающей точкой), используя метод Кардано для нахождения корней уравнения $$y^3 + 3*y^2 + λ^2*y + 3*λ^2 = 0,$$ где коэффициенты $a$, $b$ и $c$ соответствуют $1$, $x^2$ и $3*x^2$ соответственно.\n",
        "\n",
        "Каждый найденный вещественный корень подставляется в функцию `f(y, λ)`, и если полученное значение не равно 0, оно добавляется на график в виде синей точки. Также вычисляются минимальное и максимальное значения y на графике, которые выводятся после того, как график отображен."
      ],
      "metadata": {
        "id": "BdzjI9Cgt3ov"
      }
    },
    {
      "cell_type": "code",
      "source": [
        "import scipy.optimize as opt\n",
        "\n",
        "# Количество точек на графике\n",
        "points_count = 1000;\n",
        "\n",
        "# Диапазон значений x\n",
        "x_range = np.linspace(0, 1. / np.finfo(float).eps, points_count)\n",
        "\n",
        "y_max = float('-inf')\n",
        "y_min = float('inf')\n",
        "\n",
        "for x in x_range: \n",
        "    # Локализация корней методом Кардано\n",
        "    y0, y1, y2 = cardano(3, x**2, 3*x**2)\n",
        "    \n",
        "    # Вычисление значений функции в точках корней\n",
        "    cardano_y = f(y0, x) if y0.imag == 0 else None\n",
        "    newton_y = f(opt.newton(lambda _x: f(_x, x), 0), x)\n",
        "    brentq_y = f(opt.brentq(lambda _x: f(_x, x), -1000, 1000), x)\n",
        "    \n",
        "    # Отображение точек на графике\n",
        "    if newton_y != 0 and not np.isnan(newton_y):\n",
        "        y_max = max(y_max, newton_y)\n",
        "        y_min = min(y_min, newton_y)\n",
        "        plt.scatter(x, newton_y, c='orange', s=5)\n",
        "        \n",
        "    if cardano_y is not None and cardano_y != 0 and not np.isnan(cardano_y):\n",
        "        y_max = max(y_max, cardano_y)\n",
        "        y_min = min(y_min, cardano_y)\n",
        "        plt.scatter(x, cardano_y, c='blue', s=5)\n",
        "        \n",
        "    if brentq_y != 0 and not np.isnan(brentq_y):\n",
        "        y_max = max(y_max, brentq_y)\n",
        "        y_min = min(y_min, brentq_y)\n",
        "        plt.scatter(x, brentq_y, c='lightgreen', s=5)\n",
        "        \n",
        "# Установка границ по y и отображение графика\n",
        "plt.ylim(bottom=y_min * 1.25, top=y_max * 1.25)\n",
        "plt.show()\n"
      ],
      "metadata": {
        "colab": {
          "base_uri": "https://localhost:8080/",
          "height": 463
        },
        "id": "8I5JNxOfnd5i",
        "outputId": "e087dad0-bd5e-484c-99bc-e8bea3982c53"
      },
      "execution_count": 49,
      "outputs": [
        {
          "output_type": "display_data",
          "data": {
            "text/plain": [
              "<Figure size 640x480 with 1 Axes>"
            ],
            "image/png": "[encoded data removed]"
          },
          "metadata": {}
        }
      ]
    },
    {
      "cell_type": "markdown",
      "source": [
        "Этот блок кода использует модуль `scipy.optimize` для нахождения корней функции вместо метода Кардано. Для каждого значения `x` в диапазоне `x_range` выполняется следующее:\n",
        "\n",
        "* Используя функцию `opt.newton`, вычисляется корень функции при заданном `x` с начальным значением $0$. Это делается с помощью локализации корня методом Ньютона\n",
        "(полученное значение функции сохраняется в переменную `newton_y`).\n",
        "\n",
        "* Используя функцию `opt.brentq`, вычисляется корень функции при заданном `x` в заданном диапазоне (полученное значение функции сохраняется в переменную `brentq_y`).\n",
        "\n",
        "* Используя метод Кардано, вычисляются корни функции при заданном `x` (значения функции в точках корней сохраняются в переменной `cardano_y`).\n",
        "\n",
        "* Выполняется отображение точек на графике в зависимости от полученных значений функции (точки, полученные с помощью метода Ньютона, отображаются оранжевым цветом, точки, полученные с помощью метода Брента, отображаются светло-зеленым цветом, а точки, полученные с помощью метода Кардано, отображаются синим цветом).\n",
        "\n",
        "Наконец, устанавливаются границы по оси $y$, и график отображается с помощью функции `plt.show()`."
      ],
      "metadata": {
        "id": "wRdbJILOuPMe"
      }
    },
    {
      "cell_type": "markdown",
      "source": [
        "# Вывод\n",
        "Метод Кардано имеет плохую обусловленность, что означает, что небольшие изменения входных параметров могут приводить к большим изменениям выходных результатов. Это может приводить к потере точности и значительным ошибкам при решении уравнений. В блоке кода, где используется метод Кардано для нахождения корней уравнения, это может привести к тому, что полученные значения корней могут быть неточными или даже неверными, особенно если корни находятся близко к нулю. В то время как методы оптимизации, такие как метод Ньютона и метод Брента, обычно имеют лучшую обусловленность, что делает их более надежными при решении уравнений."
      ],
      "metadata": {
        "id": "GgrbKXP0uycY"
      }
    }
  ]
}